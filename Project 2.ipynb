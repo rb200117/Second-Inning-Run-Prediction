{
 "cells": [
  {
   "cell_type": "markdown",
   "metadata": {},
   "source": [
    "# Outstanding Project 2\n",
    "## Extraction and Visualisation of the Dataset:\n",
    "### Extracting Dataset from CSV file and plotting bar graph for average runs scored by each country."
   ]
  },
  {
   "cell_type": "code",
   "execution_count": 96,
   "metadata": {},
   "outputs": [
    {
     "name": "stdout",
     "output_type": "stream",
     "text": [
      "<class 'pandas.core.frame.DataFrame'>\n",
      "RangeIndex: 350899 entries, 0 to 350898\n",
      "Data columns (total 15 columns):\n",
      " #   Column          Non-Null Count   Dtype  \n",
      "---  ------          --------------   -----  \n",
      " 0   mid             350899 non-null  int64  \n",
      " 1   date            350899 non-null  object \n",
      " 2   venue           350899 non-null  object \n",
      " 3   bat_team        350899 non-null  object \n",
      " 4   bowl_team       350899 non-null  object \n",
      " 5   batsman         350899 non-null  object \n",
      " 6   bowler          350899 non-null  object \n",
      " 7   runs            350899 non-null  int64  \n",
      " 8   wickets         350899 non-null  int64  \n",
      " 9   overs           350899 non-null  float64\n",
      " 10  runs_last_5     350899 non-null  int64  \n",
      " 11  wickets_last_5  350899 non-null  int64  \n",
      " 12  striker         350899 non-null  int64  \n",
      " 13  non-striker     350899 non-null  int64  \n",
      " 14  total           350899 non-null  int64  \n",
      "dtypes: float64(1), int64(8), object(6)\n",
      "memory usage: 40.2+ MB\n"
     ]
    }
   ],
   "source": [
    "import numpy as np\n",
    "import pandas as pd\n",
    "df = pd.read_csv('/Users/rakshitbatra/Downloads/odidata.csv')\n",
    "df.info()"
   ]
  },
  {
   "cell_type": "code",
   "execution_count": 26,
   "metadata": {},
   "outputs": [
    {
     "data": {
      "text/plain": [
       "array(['England', 'Pakistan', 'Sri Lanka', 'Australia', 'South Africa',\n",
       "       'New Zealand', 'Bangladesh', 'West Indies', 'India', 'Zimbabwe',\n",
       "       'Ireland', 'Scotland', 'Kenya', 'Bermuda', 'Netherlands', 'Canada',\n",
       "       'Asia XI', 'Afghanistan', 'United Arab Emirates', 'Hong Kong',\n",
       "       'Papua New Guinea'], dtype=object)"
      ]
     },
     "execution_count": 26,
     "metadata": {},
     "output_type": "execute_result"
    }
   ],
   "source": [
    "df.bat_team.unique()"
   ]
  },
  {
   "cell_type": "markdown",
   "metadata": {},
   "source": [
    "## 2) Using “groupby” operation to find the average number of runs scored by each country, and plotting it on a bar graph."
   ]
  },
  {
   "cell_type": "code",
   "execution_count": 27,
   "metadata": {},
   "outputs": [],
   "source": [
    "df1=df.groupby(['bat_team']).mean()"
   ]
  },
  {
   "cell_type": "code",
   "execution_count": 29,
   "metadata": {},
   "outputs": [
    {
     "data": {
      "text/html": [
       "<div>\n",
       "<style scoped>\n",
       "    .dataframe tbody tr th:only-of-type {\n",
       "        vertical-align: middle;\n",
       "    }\n",
       "\n",
       "    .dataframe tbody tr th {\n",
       "        vertical-align: top;\n",
       "    }\n",
       "\n",
       "    .dataframe thead th {\n",
       "        text-align: right;\n",
       "    }\n",
       "</style>\n",
       "<table border=\"1\" class=\"dataframe\">\n",
       "  <thead>\n",
       "    <tr style=\"text-align: right;\">\n",
       "      <th></th>\n",
       "      <th>mid</th>\n",
       "      <th>runs</th>\n",
       "      <th>wickets</th>\n",
       "      <th>overs</th>\n",
       "      <th>runs_last_5</th>\n",
       "      <th>wickets_last_5</th>\n",
       "      <th>striker</th>\n",
       "      <th>non-striker</th>\n",
       "      <th>total</th>\n",
       "    </tr>\n",
       "    <tr>\n",
       "      <th>bat_team</th>\n",
       "      <th></th>\n",
       "      <th></th>\n",
       "      <th></th>\n",
       "      <th></th>\n",
       "      <th></th>\n",
       "      <th></th>\n",
       "      <th></th>\n",
       "      <th></th>\n",
       "      <th></th>\n",
       "    </tr>\n",
       "  </thead>\n",
       "  <tbody>\n",
       "    <tr>\n",
       "      <th>Afghanistan</th>\n",
       "      <td>963.248546</td>\n",
       "      <td>103.719725</td>\n",
       "      <td>3.383792</td>\n",
       "      <td>23.731491</td>\n",
       "      <td>21.510709</td>\n",
       "      <td>0.731359</td>\n",
       "      <td>28.062136</td>\n",
       "      <td>9.176758</td>\n",
       "      <td>231.294685</td>\n",
       "    </tr>\n",
       "    <tr>\n",
       "      <th>Asia XI</th>\n",
       "      <td>192.995717</td>\n",
       "      <td>150.514989</td>\n",
       "      <td>3.304069</td>\n",
       "      <td>24.731049</td>\n",
       "      <td>29.556745</td>\n",
       "      <td>0.614561</td>\n",
       "      <td>37.946467</td>\n",
       "      <td>17.165953</td>\n",
       "      <td>328.396146</td>\n",
       "    </tr>\n",
       "    <tr>\n",
       "      <th>Australia</th>\n",
       "      <td>523.393997</td>\n",
       "      <td>122.956547</td>\n",
       "      <td>2.765866</td>\n",
       "      <td>24.468990</td>\n",
       "      <td>24.985360</td>\n",
       "      <td>0.615786</td>\n",
       "      <td>38.055553</td>\n",
       "      <td>13.551163</td>\n",
       "      <td>274.583853</td>\n",
       "    </tr>\n",
       "    <tr>\n",
       "      <th>Bangladesh</th>\n",
       "      <td>625.695530</td>\n",
       "      <td>105.383375</td>\n",
       "      <td>3.246617</td>\n",
       "      <td>23.786136</td>\n",
       "      <td>21.526441</td>\n",
       "      <td>0.717502</td>\n",
       "      <td>31.168087</td>\n",
       "      <td>10.926650</td>\n",
       "      <td>232.174770</td>\n",
       "    </tr>\n",
       "    <tr>\n",
       "      <th>Bermuda</th>\n",
       "      <td>216.027715</td>\n",
       "      <td>86.493213</td>\n",
       "      <td>4.113688</td>\n",
       "      <td>23.318778</td>\n",
       "      <td>17.887443</td>\n",
       "      <td>0.809955</td>\n",
       "      <td>23.351244</td>\n",
       "      <td>8.651018</td>\n",
       "      <td>189.269796</td>\n",
       "    </tr>\n",
       "    <tr>\n",
       "      <th>Canada</th>\n",
       "      <td>501.073150</td>\n",
       "      <td>94.619701</td>\n",
       "      <td>3.482959</td>\n",
       "      <td>22.537781</td>\n",
       "      <td>19.535328</td>\n",
       "      <td>0.836658</td>\n",
       "      <td>25.301746</td>\n",
       "      <td>7.400665</td>\n",
       "      <td>198.460931</td>\n",
       "    </tr>\n",
       "    <tr>\n",
       "      <th>England</th>\n",
       "      <td>585.947424</td>\n",
       "      <td>120.585727</td>\n",
       "      <td>2.826558</td>\n",
       "      <td>24.094214</td>\n",
       "      <td>24.647837</td>\n",
       "      <td>0.659172</td>\n",
       "      <td>36.141207</td>\n",
       "      <td>12.912674</td>\n",
       "      <td>266.261576</td>\n",
       "    </tr>\n",
       "    <tr>\n",
       "      <th>Hong Kong</th>\n",
       "      <td>1063.858705</td>\n",
       "      <td>100.560976</td>\n",
       "      <td>3.277544</td>\n",
       "      <td>24.121531</td>\n",
       "      <td>21.099243</td>\n",
       "      <td>0.708158</td>\n",
       "      <td>28.269975</td>\n",
       "      <td>7.851135</td>\n",
       "      <td>226.456686</td>\n",
       "    </tr>\n",
       "    <tr>\n",
       "      <th>India</th>\n",
       "      <td>552.437117</td>\n",
       "      <td>125.675789</td>\n",
       "      <td>2.745297</td>\n",
       "      <td>24.192921</td>\n",
       "      <td>25.444026</td>\n",
       "      <td>0.611036</td>\n",
       "      <td>40.690923</td>\n",
       "      <td>14.656827</td>\n",
       "      <td>277.261732</td>\n",
       "    </tr>\n",
       "    <tr>\n",
       "      <th>Ireland</th>\n",
       "      <td>764.949661</td>\n",
       "      <td>103.182362</td>\n",
       "      <td>3.224731</td>\n",
       "      <td>23.661960</td>\n",
       "      <td>21.325940</td>\n",
       "      <td>0.760393</td>\n",
       "      <td>32.905831</td>\n",
       "      <td>9.255147</td>\n",
       "      <td>228.572055</td>\n",
       "    </tr>\n",
       "    <tr>\n",
       "      <th>Kenya</th>\n",
       "      <td>329.887769</td>\n",
       "      <td>84.564852</td>\n",
       "      <td>3.986559</td>\n",
       "      <td>22.242473</td>\n",
       "      <td>17.769153</td>\n",
       "      <td>0.878360</td>\n",
       "      <td>23.191196</td>\n",
       "      <td>7.013105</td>\n",
       "      <td>183.188172</td>\n",
       "    </tr>\n",
       "    <tr>\n",
       "      <th>Netherlands</th>\n",
       "      <td>496.299816</td>\n",
       "      <td>92.863177</td>\n",
       "      <td>3.496786</td>\n",
       "      <td>22.733655</td>\n",
       "      <td>19.897153</td>\n",
       "      <td>0.803949</td>\n",
       "      <td>29.965565</td>\n",
       "      <td>10.153352</td>\n",
       "      <td>202.668044</td>\n",
       "    </tr>\n",
       "    <tr>\n",
       "      <th>New Zealand</th>\n",
       "      <td>629.917286</td>\n",
       "      <td>118.863359</td>\n",
       "      <td>3.058006</td>\n",
       "      <td>24.232326</td>\n",
       "      <td>24.450219</td>\n",
       "      <td>0.674483</td>\n",
       "      <td>36.258192</td>\n",
       "      <td>12.082449</td>\n",
       "      <td>267.911250</td>\n",
       "    </tr>\n",
       "    <tr>\n",
       "      <th>Pakistan</th>\n",
       "      <td>612.331322</td>\n",
       "      <td>114.268115</td>\n",
       "      <td>2.953724</td>\n",
       "      <td>24.397258</td>\n",
       "      <td>23.525270</td>\n",
       "      <td>0.656611</td>\n",
       "      <td>33.672626</td>\n",
       "      <td>12.329869</td>\n",
       "      <td>256.961905</td>\n",
       "    </tr>\n",
       "    <tr>\n",
       "      <th>Papua New Guinea</th>\n",
       "      <td>1125.000000</td>\n",
       "      <td>110.830986</td>\n",
       "      <td>4.401408</td>\n",
       "      <td>22.621127</td>\n",
       "      <td>20.207746</td>\n",
       "      <td>0.926056</td>\n",
       "      <td>25.841549</td>\n",
       "      <td>6.911972</td>\n",
       "      <td>201.000000</td>\n",
       "    </tr>\n",
       "    <tr>\n",
       "      <th>Scotland</th>\n",
       "      <td>796.433479</td>\n",
       "      <td>102.031166</td>\n",
       "      <td>3.775972</td>\n",
       "      <td>23.353603</td>\n",
       "      <td>21.381032</td>\n",
       "      <td>0.784517</td>\n",
       "      <td>32.815851</td>\n",
       "      <td>8.802279</td>\n",
       "      <td>224.372319</td>\n",
       "    </tr>\n",
       "    <tr>\n",
       "      <th>South Africa</th>\n",
       "      <td>620.935298</td>\n",
       "      <td>124.920405</td>\n",
       "      <td>2.540642</td>\n",
       "      <td>24.378343</td>\n",
       "      <td>25.768006</td>\n",
       "      <td>0.574651</td>\n",
       "      <td>40.885364</td>\n",
       "      <td>15.870440</td>\n",
       "      <td>282.738377</td>\n",
       "    </tr>\n",
       "    <tr>\n",
       "      <th>Sri Lanka</th>\n",
       "      <td>546.213406</td>\n",
       "      <td>116.667119</td>\n",
       "      <td>2.892140</td>\n",
       "      <td>24.085054</td>\n",
       "      <td>23.496716</td>\n",
       "      <td>0.669502</td>\n",
       "      <td>36.042840</td>\n",
       "      <td>13.065347</td>\n",
       "      <td>254.554023</td>\n",
       "    </tr>\n",
       "    <tr>\n",
       "      <th>United Arab Emirates</th>\n",
       "      <td>964.557328</td>\n",
       "      <td>103.675474</td>\n",
       "      <td>3.640578</td>\n",
       "      <td>23.216550</td>\n",
       "      <td>21.200399</td>\n",
       "      <td>0.852941</td>\n",
       "      <td>28.098205</td>\n",
       "      <td>10.790628</td>\n",
       "      <td>224.057827</td>\n",
       "    </tr>\n",
       "    <tr>\n",
       "      <th>West Indies</th>\n",
       "      <td>559.821182</td>\n",
       "      <td>103.824277</td>\n",
       "      <td>3.122098</td>\n",
       "      <td>23.828778</td>\n",
       "      <td>21.955034</td>\n",
       "      <td>0.707366</td>\n",
       "      <td>30.426110</td>\n",
       "      <td>10.516752</td>\n",
       "      <td>237.371397</td>\n",
       "    </tr>\n",
       "    <tr>\n",
       "      <th>Zimbabwe</th>\n",
       "      <td>596.212333</td>\n",
       "      <td>93.753860</td>\n",
       "      <td>3.346711</td>\n",
       "      <td>23.254563</td>\n",
       "      <td>19.811700</td>\n",
       "      <td>0.773549</td>\n",
       "      <td>28.602909</td>\n",
       "      <td>9.271165</td>\n",
       "      <td>206.446338</td>\n",
       "    </tr>\n",
       "  </tbody>\n",
       "</table>\n",
       "</div>"
      ],
      "text/plain": [
       "                              mid        runs   wickets      overs  \\\n",
       "bat_team                                                             \n",
       "Afghanistan            963.248546  103.719725  3.383792  23.731491   \n",
       "Asia XI                192.995717  150.514989  3.304069  24.731049   \n",
       "Australia              523.393997  122.956547  2.765866  24.468990   \n",
       "Bangladesh             625.695530  105.383375  3.246617  23.786136   \n",
       "Bermuda                216.027715   86.493213  4.113688  23.318778   \n",
       "Canada                 501.073150   94.619701  3.482959  22.537781   \n",
       "England                585.947424  120.585727  2.826558  24.094214   \n",
       "Hong Kong             1063.858705  100.560976  3.277544  24.121531   \n",
       "India                  552.437117  125.675789  2.745297  24.192921   \n",
       "Ireland                764.949661  103.182362  3.224731  23.661960   \n",
       "Kenya                  329.887769   84.564852  3.986559  22.242473   \n",
       "Netherlands            496.299816   92.863177  3.496786  22.733655   \n",
       "New Zealand            629.917286  118.863359  3.058006  24.232326   \n",
       "Pakistan               612.331322  114.268115  2.953724  24.397258   \n",
       "Papua New Guinea      1125.000000  110.830986  4.401408  22.621127   \n",
       "Scotland               796.433479  102.031166  3.775972  23.353603   \n",
       "South Africa           620.935298  124.920405  2.540642  24.378343   \n",
       "Sri Lanka              546.213406  116.667119  2.892140  24.085054   \n",
       "United Arab Emirates   964.557328  103.675474  3.640578  23.216550   \n",
       "West Indies            559.821182  103.824277  3.122098  23.828778   \n",
       "Zimbabwe               596.212333   93.753860  3.346711  23.254563   \n",
       "\n",
       "                      runs_last_5  wickets_last_5    striker  non-striker  \\\n",
       "bat_team                                                                    \n",
       "Afghanistan             21.510709        0.731359  28.062136     9.176758   \n",
       "Asia XI                 29.556745        0.614561  37.946467    17.165953   \n",
       "Australia               24.985360        0.615786  38.055553    13.551163   \n",
       "Bangladesh              21.526441        0.717502  31.168087    10.926650   \n",
       "Bermuda                 17.887443        0.809955  23.351244     8.651018   \n",
       "Canada                  19.535328        0.836658  25.301746     7.400665   \n",
       "England                 24.647837        0.659172  36.141207    12.912674   \n",
       "Hong Kong               21.099243        0.708158  28.269975     7.851135   \n",
       "India                   25.444026        0.611036  40.690923    14.656827   \n",
       "Ireland                 21.325940        0.760393  32.905831     9.255147   \n",
       "Kenya                   17.769153        0.878360  23.191196     7.013105   \n",
       "Netherlands             19.897153        0.803949  29.965565    10.153352   \n",
       "New Zealand             24.450219        0.674483  36.258192    12.082449   \n",
       "Pakistan                23.525270        0.656611  33.672626    12.329869   \n",
       "Papua New Guinea        20.207746        0.926056  25.841549     6.911972   \n",
       "Scotland                21.381032        0.784517  32.815851     8.802279   \n",
       "South Africa            25.768006        0.574651  40.885364    15.870440   \n",
       "Sri Lanka               23.496716        0.669502  36.042840    13.065347   \n",
       "United Arab Emirates    21.200399        0.852941  28.098205    10.790628   \n",
       "West Indies             21.955034        0.707366  30.426110    10.516752   \n",
       "Zimbabwe                19.811700        0.773549  28.602909     9.271165   \n",
       "\n",
       "                           total  \n",
       "bat_team                          \n",
       "Afghanistan           231.294685  \n",
       "Asia XI               328.396146  \n",
       "Australia             274.583853  \n",
       "Bangladesh            232.174770  \n",
       "Bermuda               189.269796  \n",
       "Canada                198.460931  \n",
       "England               266.261576  \n",
       "Hong Kong             226.456686  \n",
       "India                 277.261732  \n",
       "Ireland               228.572055  \n",
       "Kenya                 183.188172  \n",
       "Netherlands           202.668044  \n",
       "New Zealand           267.911250  \n",
       "Pakistan              256.961905  \n",
       "Papua New Guinea      201.000000  \n",
       "Scotland              224.372319  \n",
       "South Africa          282.738377  \n",
       "Sri Lanka             254.554023  \n",
       "United Arab Emirates  224.057827  \n",
       "West Indies           237.371397  \n",
       "Zimbabwe              206.446338  "
      ]
     },
     "execution_count": 29,
     "metadata": {},
     "output_type": "execute_result"
    }
   ],
   "source": [
    "df1\n"
   ]
  },
  {
   "cell_type": "code",
   "execution_count": 30,
   "metadata": {},
   "outputs": [],
   "source": [
    "df2=df1.drop(['mid', 'wickets','overs','runs_last_5','wickets_last_5','striker','non-striker','total'], axis=1)"
   ]
  },
  {
   "cell_type": "code",
   "execution_count": 31,
   "metadata": {},
   "outputs": [
    {
     "data": {
      "text/html": [
       "<div>\n",
       "<style scoped>\n",
       "    .dataframe tbody tr th:only-of-type {\n",
       "        vertical-align: middle;\n",
       "    }\n",
       "\n",
       "    .dataframe tbody tr th {\n",
       "        vertical-align: top;\n",
       "    }\n",
       "\n",
       "    .dataframe thead th {\n",
       "        text-align: right;\n",
       "    }\n",
       "</style>\n",
       "<table border=\"1\" class=\"dataframe\">\n",
       "  <thead>\n",
       "    <tr style=\"text-align: right;\">\n",
       "      <th></th>\n",
       "      <th>runs</th>\n",
       "    </tr>\n",
       "    <tr>\n",
       "      <th>bat_team</th>\n",
       "      <th></th>\n",
       "    </tr>\n",
       "  </thead>\n",
       "  <tbody>\n",
       "    <tr>\n",
       "      <th>Afghanistan</th>\n",
       "      <td>103.719725</td>\n",
       "    </tr>\n",
       "    <tr>\n",
       "      <th>Asia XI</th>\n",
       "      <td>150.514989</td>\n",
       "    </tr>\n",
       "    <tr>\n",
       "      <th>Australia</th>\n",
       "      <td>122.956547</td>\n",
       "    </tr>\n",
       "    <tr>\n",
       "      <th>Bangladesh</th>\n",
       "      <td>105.383375</td>\n",
       "    </tr>\n",
       "    <tr>\n",
       "      <th>Bermuda</th>\n",
       "      <td>86.493213</td>\n",
       "    </tr>\n",
       "    <tr>\n",
       "      <th>Canada</th>\n",
       "      <td>94.619701</td>\n",
       "    </tr>\n",
       "    <tr>\n",
       "      <th>England</th>\n",
       "      <td>120.585727</td>\n",
       "    </tr>\n",
       "    <tr>\n",
       "      <th>Hong Kong</th>\n",
       "      <td>100.560976</td>\n",
       "    </tr>\n",
       "    <tr>\n",
       "      <th>India</th>\n",
       "      <td>125.675789</td>\n",
       "    </tr>\n",
       "    <tr>\n",
       "      <th>Ireland</th>\n",
       "      <td>103.182362</td>\n",
       "    </tr>\n",
       "    <tr>\n",
       "      <th>Kenya</th>\n",
       "      <td>84.564852</td>\n",
       "    </tr>\n",
       "    <tr>\n",
       "      <th>Netherlands</th>\n",
       "      <td>92.863177</td>\n",
       "    </tr>\n",
       "    <tr>\n",
       "      <th>New Zealand</th>\n",
       "      <td>118.863359</td>\n",
       "    </tr>\n",
       "    <tr>\n",
       "      <th>Pakistan</th>\n",
       "      <td>114.268115</td>\n",
       "    </tr>\n",
       "    <tr>\n",
       "      <th>Papua New Guinea</th>\n",
       "      <td>110.830986</td>\n",
       "    </tr>\n",
       "    <tr>\n",
       "      <th>Scotland</th>\n",
       "      <td>102.031166</td>\n",
       "    </tr>\n",
       "    <tr>\n",
       "      <th>South Africa</th>\n",
       "      <td>124.920405</td>\n",
       "    </tr>\n",
       "    <tr>\n",
       "      <th>Sri Lanka</th>\n",
       "      <td>116.667119</td>\n",
       "    </tr>\n",
       "    <tr>\n",
       "      <th>United Arab Emirates</th>\n",
       "      <td>103.675474</td>\n",
       "    </tr>\n",
       "    <tr>\n",
       "      <th>West Indies</th>\n",
       "      <td>103.824277</td>\n",
       "    </tr>\n",
       "    <tr>\n",
       "      <th>Zimbabwe</th>\n",
       "      <td>93.753860</td>\n",
       "    </tr>\n",
       "  </tbody>\n",
       "</table>\n",
       "</div>"
      ],
      "text/plain": [
       "                            runs\n",
       "bat_team                        \n",
       "Afghanistan           103.719725\n",
       "Asia XI               150.514989\n",
       "Australia             122.956547\n",
       "Bangladesh            105.383375\n",
       "Bermuda                86.493213\n",
       "Canada                 94.619701\n",
       "England               120.585727\n",
       "Hong Kong             100.560976\n",
       "India                 125.675789\n",
       "Ireland               103.182362\n",
       "Kenya                  84.564852\n",
       "Netherlands            92.863177\n",
       "New Zealand           118.863359\n",
       "Pakistan              114.268115\n",
       "Papua New Guinea      110.830986\n",
       "Scotland              102.031166\n",
       "South Africa          124.920405\n",
       "Sri Lanka             116.667119\n",
       "United Arab Emirates  103.675474\n",
       "West Indies           103.824277\n",
       "Zimbabwe               93.753860"
      ]
     },
     "execution_count": 31,
     "metadata": {},
     "output_type": "execute_result"
    }
   ],
   "source": [
    "df2"
   ]
  },
  {
   "cell_type": "markdown",
   "metadata": {},
   "source": [
    "### Plot"
   ]
  },
  {
   "cell_type": "code",
   "execution_count": 52,
   "metadata": {},
   "outputs": [
    {
     "data": {
      "text/plain": [
       "Text(0.5, 1.0, 'Teams Overview')"
      ]
     },
     "execution_count": 52,
     "metadata": {},
     "output_type": "execute_result"
    },
    {
     "data": {
      "image/png": "[encoded data removed]",
      "text/plain": [
       "<Figure size 432x288 with 1 Axes>"
      ]
     },
     "metadata": {
      "needs_background": "light"
     },
     "output_type": "display_data"
    }
   ],
   "source": [
    "import matplotlib.pyplot as plt\n",
    "df2.plot(kind='bar')\n",
    "plt.xlabel('Teams')\n",
    "plt.ylabel('Average Runs')\n",
    "plt.title('Teams Overview')"
   ]
  },
  {
   "cell_type": "markdown",
   "metadata": {},
   "source": [
    "## Handeling Missing Values"
   ]
  },
  {
   "cell_type": "markdown",
   "metadata": {},
   "source": [
    "## 3) Checking for null values."
   ]
  },
  {
   "cell_type": "code",
   "execution_count": 53,
   "metadata": {},
   "outputs": [
    {
     "data": {
      "text/plain": [
       "mid               0\n",
       "date              0\n",
       "venue             0\n",
       "bat_team          0\n",
       "bowl_team         0\n",
       "batsman           0\n",
       "bowler            0\n",
       "runs              0\n",
       "wickets           0\n",
       "overs             0\n",
       "runs_last_5       0\n",
       "wickets_last_5    0\n",
       "striker           0\n",
       "non-striker       0\n",
       "total             0\n",
       "dtype: int64"
      ]
     },
     "execution_count": 53,
     "metadata": {},
     "output_type": "execute_result"
    }
   ],
   "source": [
    "df.isna().sum()"
   ]
  },
  {
   "cell_type": "markdown",
   "metadata": {},
   "source": [
    "## 4) Remove the columns, do not contribute to the total score, in the first innings."
   ]
  },
  {
   "cell_type": "markdown",
   "metadata": {},
   "source": [
    "## Dropping unnecessary features:"
   ]
  },
  {
   "cell_type": "code",
   "execution_count": 54,
   "metadata": {},
   "outputs": [],
   "source": [
    "df=df.drop(['mid','venue','bowler','date','batsman','bowl_team'],axis=1)"
   ]
  },
  {
   "cell_type": "code",
   "execution_count": 55,
   "metadata": {},
   "outputs": [
    {
     "data": {
      "text/html": [
       "<div>\n",
       "<style scoped>\n",
       "    .dataframe tbody tr th:only-of-type {\n",
       "        vertical-align: middle;\n",
       "    }\n",
       "\n",
       "    .dataframe tbody tr th {\n",
       "        vertical-align: top;\n",
       "    }\n",
       "\n",
       "    .dataframe thead th {\n",
       "        text-align: right;\n",
       "    }\n",
       "</style>\n",
       "<table border=\"1\" class=\"dataframe\">\n",
       "  <thead>\n",
       "    <tr style=\"text-align: right;\">\n",
       "      <th></th>\n",
       "      <th>bat_team</th>\n",
       "      <th>runs</th>\n",
       "      <th>wickets</th>\n",
       "      <th>overs</th>\n",
       "      <th>runs_last_5</th>\n",
       "      <th>wickets_last_5</th>\n",
       "      <th>striker</th>\n",
       "      <th>non-striker</th>\n",
       "      <th>total</th>\n",
       "    </tr>\n",
       "  </thead>\n",
       "  <tbody>\n",
       "    <tr>\n",
       "      <th>0</th>\n",
       "      <td>England</td>\n",
       "      <td>0</td>\n",
       "      <td>0</td>\n",
       "      <td>0.1</td>\n",
       "      <td>0</td>\n",
       "      <td>0</td>\n",
       "      <td>0</td>\n",
       "      <td>0</td>\n",
       "      <td>301</td>\n",
       "    </tr>\n",
       "    <tr>\n",
       "      <th>1</th>\n",
       "      <td>England</td>\n",
       "      <td>0</td>\n",
       "      <td>0</td>\n",
       "      <td>0.2</td>\n",
       "      <td>0</td>\n",
       "      <td>0</td>\n",
       "      <td>0</td>\n",
       "      <td>0</td>\n",
       "      <td>301</td>\n",
       "    </tr>\n",
       "    <tr>\n",
       "      <th>2</th>\n",
       "      <td>England</td>\n",
       "      <td>4</td>\n",
       "      <td>0</td>\n",
       "      <td>0.3</td>\n",
       "      <td>4</td>\n",
       "      <td>0</td>\n",
       "      <td>0</td>\n",
       "      <td>0</td>\n",
       "      <td>301</td>\n",
       "    </tr>\n",
       "    <tr>\n",
       "      <th>3</th>\n",
       "      <td>England</td>\n",
       "      <td>6</td>\n",
       "      <td>0</td>\n",
       "      <td>0.4</td>\n",
       "      <td>6</td>\n",
       "      <td>0</td>\n",
       "      <td>0</td>\n",
       "      <td>0</td>\n",
       "      <td>301</td>\n",
       "    </tr>\n",
       "    <tr>\n",
       "      <th>4</th>\n",
       "      <td>England</td>\n",
       "      <td>6</td>\n",
       "      <td>0</td>\n",
       "      <td>0.5</td>\n",
       "      <td>6</td>\n",
       "      <td>0</td>\n",
       "      <td>0</td>\n",
       "      <td>0</td>\n",
       "      <td>301</td>\n",
       "    </tr>\n",
       "  </tbody>\n",
       "</table>\n",
       "</div>"
      ],
      "text/plain": [
       "  bat_team  runs  wickets  overs  runs_last_5  wickets_last_5  striker  \\\n",
       "0  England     0        0    0.1            0               0        0   \n",
       "1  England     0        0    0.2            0               0        0   \n",
       "2  England     4        0    0.3            4               0        0   \n",
       "3  England     6        0    0.4            6               0        0   \n",
       "4  England     6        0    0.5            6               0        0   \n",
       "\n",
       "   non-striker  total  \n",
       "0            0    301  \n",
       "1            0    301  \n",
       "2            0    301  \n",
       "3            0    301  \n",
       "4            0    301  "
      ]
     },
     "execution_count": 55,
     "metadata": {},
     "output_type": "execute_result"
    }
   ],
   "source": [
    "df.head()"
   ]
  },
  {
   "cell_type": "markdown",
   "metadata": {},
   "source": [
    "### Displays only categorical columns:"
   ]
  },
  {
   "cell_type": "code",
   "execution_count": 56,
   "metadata": {},
   "outputs": [
    {
     "data": {
      "text/plain": [
       "['bat_team']"
      ]
     },
     "execution_count": 56,
     "metadata": {},
     "output_type": "execute_result"
    }
   ],
   "source": [
    "cols = df.columns\n",
    "num_cols = df._get_numeric_data().columns\n",
    "num_cols\n",
    "list(set(cols) - set(num_cols))"
   ]
  },
  {
   "cell_type": "markdown",
   "metadata": {},
   "source": [
    "## 5) Converting categorical columns to numeric using dummy encoding."
   ]
  },
  {
   "cell_type": "code",
   "execution_count": 57,
   "metadata": {},
   "outputs": [
    {
     "data": {
      "text/plain": [
       "Australia               44876\n",
       "Sri Lanka               42787\n",
       "India                   33435\n",
       "England                 32201\n",
       "South Africa            31962\n",
       "Pakistan                31658\n",
       "New Zealand             30152\n",
       "Bangladesh              23940\n",
       "West Indies             23907\n",
       "Zimbabwe                21179\n",
       "Afghanistan              7564\n",
       "Ireland                  7529\n",
       "Scotland                 5968\n",
       "Kenya                    2976\n",
       "Canada                   2406\n",
       "Netherlands              2178\n",
       "United Arab Emirates     2006\n",
       "Bermuda                  1768\n",
       "Hong Kong                1189\n",
       "Asia XI                   934\n",
       "Papua New Guinea          284\n",
       "Name: bat_team, dtype: int64"
      ]
     },
     "execution_count": 57,
     "metadata": {},
     "output_type": "execute_result"
    }
   ],
   "source": [
    "df.bat_team.value_counts()"
   ]
  },
  {
   "cell_type": "code",
   "execution_count": 70,
   "metadata": {},
   "outputs": [],
   "source": [
    "df1=pd.get_dummies(df.bat_team)"
   ]
  },
  {
   "cell_type": "code",
   "execution_count": 71,
   "metadata": {},
   "outputs": [
    {
     "data": {
      "text/html": [
       "<div>\n",
       "<style scoped>\n",
       "    .dataframe tbody tr th:only-of-type {\n",
       "        vertical-align: middle;\n",
       "    }\n",
       "\n",
       "    .dataframe tbody tr th {\n",
       "        vertical-align: top;\n",
       "    }\n",
       "\n",
       "    .dataframe thead th {\n",
       "        text-align: right;\n",
       "    }\n",
       "</style>\n",
       "<table border=\"1\" class=\"dataframe\">\n",
       "  <thead>\n",
       "    <tr style=\"text-align: right;\">\n",
       "      <th></th>\n",
       "      <th>Afghanistan</th>\n",
       "      <th>Asia XI</th>\n",
       "      <th>Australia</th>\n",
       "      <th>Bangladesh</th>\n",
       "      <th>Bermuda</th>\n",
       "      <th>Canada</th>\n",
       "      <th>England</th>\n",
       "      <th>Hong Kong</th>\n",
       "      <th>India</th>\n",
       "      <th>Ireland</th>\n",
       "      <th>...</th>\n",
       "      <th>Netherlands</th>\n",
       "      <th>New Zealand</th>\n",
       "      <th>Pakistan</th>\n",
       "      <th>Papua New Guinea</th>\n",
       "      <th>Scotland</th>\n",
       "      <th>South Africa</th>\n",
       "      <th>Sri Lanka</th>\n",
       "      <th>United Arab Emirates</th>\n",
       "      <th>West Indies</th>\n",
       "      <th>Zimbabwe</th>\n",
       "    </tr>\n",
       "  </thead>\n",
       "  <tbody>\n",
       "    <tr>\n",
       "      <th>0</th>\n",
       "      <td>0</td>\n",
       "      <td>0</td>\n",
       "      <td>0</td>\n",
       "      <td>0</td>\n",
       "      <td>0</td>\n",
       "      <td>0</td>\n",
       "      <td>1</td>\n",
       "      <td>0</td>\n",
       "      <td>0</td>\n",
       "      <td>0</td>\n",
       "      <td>...</td>\n",
       "      <td>0</td>\n",
       "      <td>0</td>\n",
       "      <td>0</td>\n",
       "      <td>0</td>\n",
       "      <td>0</td>\n",
       "      <td>0</td>\n",
       "      <td>0</td>\n",
       "      <td>0</td>\n",
       "      <td>0</td>\n",
       "      <td>0</td>\n",
       "    </tr>\n",
       "    <tr>\n",
       "      <th>1</th>\n",
       "      <td>0</td>\n",
       "      <td>0</td>\n",
       "      <td>0</td>\n",
       "      <td>0</td>\n",
       "      <td>0</td>\n",
       "      <td>0</td>\n",
       "      <td>1</td>\n",
       "      <td>0</td>\n",
       "      <td>0</td>\n",
       "      <td>0</td>\n",
       "      <td>...</td>\n",
       "      <td>0</td>\n",
       "      <td>0</td>\n",
       "      <td>0</td>\n",
       "      <td>0</td>\n",
       "      <td>0</td>\n",
       "      <td>0</td>\n",
       "      <td>0</td>\n",
       "      <td>0</td>\n",
       "      <td>0</td>\n",
       "      <td>0</td>\n",
       "    </tr>\n",
       "    <tr>\n",
       "      <th>2</th>\n",
       "      <td>0</td>\n",
       "      <td>0</td>\n",
       "      <td>0</td>\n",
       "      <td>0</td>\n",
       "      <td>0</td>\n",
       "      <td>0</td>\n",
       "      <td>1</td>\n",
       "      <td>0</td>\n",
       "      <td>0</td>\n",
       "      <td>0</td>\n",
       "      <td>...</td>\n",
       "      <td>0</td>\n",
       "      <td>0</td>\n",
       "      <td>0</td>\n",
       "      <td>0</td>\n",
       "      <td>0</td>\n",
       "      <td>0</td>\n",
       "      <td>0</td>\n",
       "      <td>0</td>\n",
       "      <td>0</td>\n",
       "      <td>0</td>\n",
       "    </tr>\n",
       "    <tr>\n",
       "      <th>3</th>\n",
       "      <td>0</td>\n",
       "      <td>0</td>\n",
       "      <td>0</td>\n",
       "      <td>0</td>\n",
       "      <td>0</td>\n",
       "      <td>0</td>\n",
       "      <td>1</td>\n",
       "      <td>0</td>\n",
       "      <td>0</td>\n",
       "      <td>0</td>\n",
       "      <td>...</td>\n",
       "      <td>0</td>\n",
       "      <td>0</td>\n",
       "      <td>0</td>\n",
       "      <td>0</td>\n",
       "      <td>0</td>\n",
       "      <td>0</td>\n",
       "      <td>0</td>\n",
       "      <td>0</td>\n",
       "      <td>0</td>\n",
       "      <td>0</td>\n",
       "    </tr>\n",
       "    <tr>\n",
       "      <th>4</th>\n",
       "      <td>0</td>\n",
       "      <td>0</td>\n",
       "      <td>0</td>\n",
       "      <td>0</td>\n",
       "      <td>0</td>\n",
       "      <td>0</td>\n",
       "      <td>1</td>\n",
       "      <td>0</td>\n",
       "      <td>0</td>\n",
       "      <td>0</td>\n",
       "      <td>...</td>\n",
       "      <td>0</td>\n",
       "      <td>0</td>\n",
       "      <td>0</td>\n",
       "      <td>0</td>\n",
       "      <td>0</td>\n",
       "      <td>0</td>\n",
       "      <td>0</td>\n",
       "      <td>0</td>\n",
       "      <td>0</td>\n",
       "      <td>0</td>\n",
       "    </tr>\n",
       "    <tr>\n",
       "      <th>...</th>\n",
       "      <td>...</td>\n",
       "      <td>...</td>\n",
       "      <td>...</td>\n",
       "      <td>...</td>\n",
       "      <td>...</td>\n",
       "      <td>...</td>\n",
       "      <td>...</td>\n",
       "      <td>...</td>\n",
       "      <td>...</td>\n",
       "      <td>...</td>\n",
       "      <td>...</td>\n",
       "      <td>...</td>\n",
       "      <td>...</td>\n",
       "      <td>...</td>\n",
       "      <td>...</td>\n",
       "      <td>...</td>\n",
       "      <td>...</td>\n",
       "      <td>...</td>\n",
       "      <td>...</td>\n",
       "      <td>...</td>\n",
       "      <td>...</td>\n",
       "    </tr>\n",
       "    <tr>\n",
       "      <th>350894</th>\n",
       "      <td>0</td>\n",
       "      <td>0</td>\n",
       "      <td>0</td>\n",
       "      <td>0</td>\n",
       "      <td>0</td>\n",
       "      <td>0</td>\n",
       "      <td>0</td>\n",
       "      <td>0</td>\n",
       "      <td>0</td>\n",
       "      <td>0</td>\n",
       "      <td>...</td>\n",
       "      <td>0</td>\n",
       "      <td>0</td>\n",
       "      <td>0</td>\n",
       "      <td>0</td>\n",
       "      <td>0</td>\n",
       "      <td>0</td>\n",
       "      <td>1</td>\n",
       "      <td>0</td>\n",
       "      <td>0</td>\n",
       "      <td>0</td>\n",
       "    </tr>\n",
       "    <tr>\n",
       "      <th>350895</th>\n",
       "      <td>0</td>\n",
       "      <td>0</td>\n",
       "      <td>0</td>\n",
       "      <td>0</td>\n",
       "      <td>0</td>\n",
       "      <td>0</td>\n",
       "      <td>0</td>\n",
       "      <td>0</td>\n",
       "      <td>0</td>\n",
       "      <td>0</td>\n",
       "      <td>...</td>\n",
       "      <td>0</td>\n",
       "      <td>0</td>\n",
       "      <td>0</td>\n",
       "      <td>0</td>\n",
       "      <td>0</td>\n",
       "      <td>0</td>\n",
       "      <td>1</td>\n",
       "      <td>0</td>\n",
       "      <td>0</td>\n",
       "      <td>0</td>\n",
       "    </tr>\n",
       "    <tr>\n",
       "      <th>350896</th>\n",
       "      <td>0</td>\n",
       "      <td>0</td>\n",
       "      <td>0</td>\n",
       "      <td>0</td>\n",
       "      <td>0</td>\n",
       "      <td>0</td>\n",
       "      <td>0</td>\n",
       "      <td>0</td>\n",
       "      <td>0</td>\n",
       "      <td>0</td>\n",
       "      <td>...</td>\n",
       "      <td>0</td>\n",
       "      <td>0</td>\n",
       "      <td>0</td>\n",
       "      <td>0</td>\n",
       "      <td>0</td>\n",
       "      <td>0</td>\n",
       "      <td>1</td>\n",
       "      <td>0</td>\n",
       "      <td>0</td>\n",
       "      <td>0</td>\n",
       "    </tr>\n",
       "    <tr>\n",
       "      <th>350897</th>\n",
       "      <td>0</td>\n",
       "      <td>0</td>\n",
       "      <td>0</td>\n",
       "      <td>0</td>\n",
       "      <td>0</td>\n",
       "      <td>0</td>\n",
       "      <td>0</td>\n",
       "      <td>0</td>\n",
       "      <td>0</td>\n",
       "      <td>0</td>\n",
       "      <td>...</td>\n",
       "      <td>0</td>\n",
       "      <td>0</td>\n",
       "      <td>0</td>\n",
       "      <td>0</td>\n",
       "      <td>0</td>\n",
       "      <td>0</td>\n",
       "      <td>1</td>\n",
       "      <td>0</td>\n",
       "      <td>0</td>\n",
       "      <td>0</td>\n",
       "    </tr>\n",
       "    <tr>\n",
       "      <th>350898</th>\n",
       "      <td>0</td>\n",
       "      <td>0</td>\n",
       "      <td>0</td>\n",
       "      <td>0</td>\n",
       "      <td>0</td>\n",
       "      <td>0</td>\n",
       "      <td>0</td>\n",
       "      <td>0</td>\n",
       "      <td>0</td>\n",
       "      <td>0</td>\n",
       "      <td>...</td>\n",
       "      <td>0</td>\n",
       "      <td>0</td>\n",
       "      <td>0</td>\n",
       "      <td>0</td>\n",
       "      <td>0</td>\n",
       "      <td>0</td>\n",
       "      <td>1</td>\n",
       "      <td>0</td>\n",
       "      <td>0</td>\n",
       "      <td>0</td>\n",
       "    </tr>\n",
       "  </tbody>\n",
       "</table>\n",
       "<p>350899 rows × 21 columns</p>\n",
       "</div>"
      ],
      "text/plain": [
       "        Afghanistan  Asia XI  Australia  Bangladesh  Bermuda  Canada  England  \\\n",
       "0                 0        0          0           0        0       0        1   \n",
       "1                 0        0          0           0        0       0        1   \n",
       "2                 0        0          0           0        0       0        1   \n",
       "3                 0        0          0           0        0       0        1   \n",
       "4                 0        0          0           0        0       0        1   \n",
       "...             ...      ...        ...         ...      ...     ...      ...   \n",
       "350894            0        0          0           0        0       0        0   \n",
       "350895            0        0          0           0        0       0        0   \n",
       "350896            0        0          0           0        0       0        0   \n",
       "350897            0        0          0           0        0       0        0   \n",
       "350898            0        0          0           0        0       0        0   \n",
       "\n",
       "        Hong Kong  India  Ireland  ...  Netherlands  New Zealand  Pakistan  \\\n",
       "0               0      0        0  ...            0            0         0   \n",
       "1               0      0        0  ...            0            0         0   \n",
       "2               0      0        0  ...            0            0         0   \n",
       "3               0      0        0  ...            0            0         0   \n",
       "4               0      0        0  ...            0            0         0   \n",
       "...           ...    ...      ...  ...          ...          ...       ...   \n",
       "350894          0      0        0  ...            0            0         0   \n",
       "350895          0      0        0  ...            0            0         0   \n",
       "350896          0      0        0  ...            0            0         0   \n",
       "350897          0      0        0  ...            0            0         0   \n",
       "350898          0      0        0  ...            0            0         0   \n",
       "\n",
       "        Papua New Guinea  Scotland  South Africa  Sri Lanka  \\\n",
       "0                      0         0             0          0   \n",
       "1                      0         0             0          0   \n",
       "2                      0         0             0          0   \n",
       "3                      0         0             0          0   \n",
       "4                      0         0             0          0   \n",
       "...                  ...       ...           ...        ...   \n",
       "350894                 0         0             0          1   \n",
       "350895                 0         0             0          1   \n",
       "350896                 0         0             0          1   \n",
       "350897                 0         0             0          1   \n",
       "350898                 0         0             0          1   \n",
       "\n",
       "        United Arab Emirates  West Indies  Zimbabwe  \n",
       "0                          0            0         0  \n",
       "1                          0            0         0  \n",
       "2                          0            0         0  \n",
       "3                          0            0         0  \n",
       "4                          0            0         0  \n",
       "...                      ...          ...       ...  \n",
       "350894                     0            0         0  \n",
       "350895                     0            0         0  \n",
       "350896                     0            0         0  \n",
       "350897                     0            0         0  \n",
       "350898                     0            0         0  \n",
       "\n",
       "[350899 rows x 21 columns]"
      ]
     },
     "execution_count": 71,
     "metadata": {},
     "output_type": "execute_result"
    }
   ],
   "source": [
    "df1"
   ]
  },
  {
   "cell_type": "code",
   "execution_count": 60,
   "metadata": {},
   "outputs": [],
   "source": [
    "frames=[df,df1]"
   ]
  },
  {
   "cell_type": "code",
   "execution_count": 61,
   "metadata": {},
   "outputs": [],
   "source": [
    "data=pd.concat(frames,axis=1)"
   ]
  },
  {
   "cell_type": "code",
   "execution_count": 62,
   "metadata": {},
   "outputs": [
    {
     "data": {
      "text/html": [
       "<div>\n",
       "<style scoped>\n",
       "    .dataframe tbody tr th:only-of-type {\n",
       "        vertical-align: middle;\n",
       "    }\n",
       "\n",
       "    .dataframe tbody tr th {\n",
       "        vertical-align: top;\n",
       "    }\n",
       "\n",
       "    .dataframe thead th {\n",
       "        text-align: right;\n",
       "    }\n",
       "</style>\n",
       "<table border=\"1\" class=\"dataframe\">\n",
       "  <thead>\n",
       "    <tr style=\"text-align: right;\">\n",
       "      <th></th>\n",
       "      <th>bat_team</th>\n",
       "      <th>runs</th>\n",
       "      <th>wickets</th>\n",
       "      <th>overs</th>\n",
       "      <th>runs_last_5</th>\n",
       "      <th>wickets_last_5</th>\n",
       "      <th>striker</th>\n",
       "      <th>non-striker</th>\n",
       "      <th>total</th>\n",
       "      <th>Afghanistan</th>\n",
       "      <th>...</th>\n",
       "      <th>Netherlands</th>\n",
       "      <th>New Zealand</th>\n",
       "      <th>Pakistan</th>\n",
       "      <th>Papua New Guinea</th>\n",
       "      <th>Scotland</th>\n",
       "      <th>South Africa</th>\n",
       "      <th>Sri Lanka</th>\n",
       "      <th>United Arab Emirates</th>\n",
       "      <th>West Indies</th>\n",
       "      <th>Zimbabwe</th>\n",
       "    </tr>\n",
       "  </thead>\n",
       "  <tbody>\n",
       "    <tr>\n",
       "      <th>0</th>\n",
       "      <td>England</td>\n",
       "      <td>0</td>\n",
       "      <td>0</td>\n",
       "      <td>0.1</td>\n",
       "      <td>0</td>\n",
       "      <td>0</td>\n",
       "      <td>0</td>\n",
       "      <td>0</td>\n",
       "      <td>301</td>\n",
       "      <td>0</td>\n",
       "      <td>...</td>\n",
       "      <td>0</td>\n",
       "      <td>0</td>\n",
       "      <td>0</td>\n",
       "      <td>0</td>\n",
       "      <td>0</td>\n",
       "      <td>0</td>\n",
       "      <td>0</td>\n",
       "      <td>0</td>\n",
       "      <td>0</td>\n",
       "      <td>0</td>\n",
       "    </tr>\n",
       "    <tr>\n",
       "      <th>1</th>\n",
       "      <td>England</td>\n",
       "      <td>0</td>\n",
       "      <td>0</td>\n",
       "      <td>0.2</td>\n",
       "      <td>0</td>\n",
       "      <td>0</td>\n",
       "      <td>0</td>\n",
       "      <td>0</td>\n",
       "      <td>301</td>\n",
       "      <td>0</td>\n",
       "      <td>...</td>\n",
       "      <td>0</td>\n",
       "      <td>0</td>\n",
       "      <td>0</td>\n",
       "      <td>0</td>\n",
       "      <td>0</td>\n",
       "      <td>0</td>\n",
       "      <td>0</td>\n",
       "      <td>0</td>\n",
       "      <td>0</td>\n",
       "      <td>0</td>\n",
       "    </tr>\n",
       "    <tr>\n",
       "      <th>2</th>\n",
       "      <td>England</td>\n",
       "      <td>4</td>\n",
       "      <td>0</td>\n",
       "      <td>0.3</td>\n",
       "      <td>4</td>\n",
       "      <td>0</td>\n",
       "      <td>0</td>\n",
       "      <td>0</td>\n",
       "      <td>301</td>\n",
       "      <td>0</td>\n",
       "      <td>...</td>\n",
       "      <td>0</td>\n",
       "      <td>0</td>\n",
       "      <td>0</td>\n",
       "      <td>0</td>\n",
       "      <td>0</td>\n",
       "      <td>0</td>\n",
       "      <td>0</td>\n",
       "      <td>0</td>\n",
       "      <td>0</td>\n",
       "      <td>0</td>\n",
       "    </tr>\n",
       "    <tr>\n",
       "      <th>3</th>\n",
       "      <td>England</td>\n",
       "      <td>6</td>\n",
       "      <td>0</td>\n",
       "      <td>0.4</td>\n",
       "      <td>6</td>\n",
       "      <td>0</td>\n",
       "      <td>0</td>\n",
       "      <td>0</td>\n",
       "      <td>301</td>\n",
       "      <td>0</td>\n",
       "      <td>...</td>\n",
       "      <td>0</td>\n",
       "      <td>0</td>\n",
       "      <td>0</td>\n",
       "      <td>0</td>\n",
       "      <td>0</td>\n",
       "      <td>0</td>\n",
       "      <td>0</td>\n",
       "      <td>0</td>\n",
       "      <td>0</td>\n",
       "      <td>0</td>\n",
       "    </tr>\n",
       "    <tr>\n",
       "      <th>4</th>\n",
       "      <td>England</td>\n",
       "      <td>6</td>\n",
       "      <td>0</td>\n",
       "      <td>0.5</td>\n",
       "      <td>6</td>\n",
       "      <td>0</td>\n",
       "      <td>0</td>\n",
       "      <td>0</td>\n",
       "      <td>301</td>\n",
       "      <td>0</td>\n",
       "      <td>...</td>\n",
       "      <td>0</td>\n",
       "      <td>0</td>\n",
       "      <td>0</td>\n",
       "      <td>0</td>\n",
       "      <td>0</td>\n",
       "      <td>0</td>\n",
       "      <td>0</td>\n",
       "      <td>0</td>\n",
       "      <td>0</td>\n",
       "      <td>0</td>\n",
       "    </tr>\n",
       "  </tbody>\n",
       "</table>\n",
       "<p>5 rows × 30 columns</p>\n",
       "</div>"
      ],
      "text/plain": [
       "  bat_team  runs  wickets  overs  runs_last_5  wickets_last_5  striker  \\\n",
       "0  England     0        0    0.1            0               0        0   \n",
       "1  England     0        0    0.2            0               0        0   \n",
       "2  England     4        0    0.3            4               0        0   \n",
       "3  England     6        0    0.4            6               0        0   \n",
       "4  England     6        0    0.5            6               0        0   \n",
       "\n",
       "   non-striker  total  Afghanistan  ...  Netherlands  New Zealand  Pakistan  \\\n",
       "0            0    301            0  ...            0            0         0   \n",
       "1            0    301            0  ...            0            0         0   \n",
       "2            0    301            0  ...            0            0         0   \n",
       "3            0    301            0  ...            0            0         0   \n",
       "4            0    301            0  ...            0            0         0   \n",
       "\n",
       "   Papua New Guinea  Scotland  South Africa  Sri Lanka  United Arab Emirates  \\\n",
       "0                 0         0             0          0                     0   \n",
       "1                 0         0             0          0                     0   \n",
       "2                 0         0             0          0                     0   \n",
       "3                 0         0             0          0                     0   \n",
       "4                 0         0             0          0                     0   \n",
       "\n",
       "   West Indies  Zimbabwe  \n",
       "0            0         0  \n",
       "1            0         0  \n",
       "2            0         0  \n",
       "3            0         0  \n",
       "4            0         0  \n",
       "\n",
       "[5 rows x 30 columns]"
      ]
     },
     "execution_count": 62,
     "metadata": {},
     "output_type": "execute_result"
    }
   ],
   "source": [
    "data.head()"
   ]
  },
  {
   "cell_type": "markdown",
   "metadata": {},
   "source": [
    "## 6) Selecting the TARGET Variable."
   ]
  },
  {
   "cell_type": "code",
   "execution_count": 63,
   "metadata": {},
   "outputs": [],
   "source": [
    "data = data.iloc[:, 1:]"
   ]
  },
  {
   "cell_type": "code",
   "execution_count": 64,
   "metadata": {},
   "outputs": [
    {
     "data": {
      "text/html": [
       "<div>\n",
       "<style scoped>\n",
       "    .dataframe tbody tr th:only-of-type {\n",
       "        vertical-align: middle;\n",
       "    }\n",
       "\n",
       "    .dataframe tbody tr th {\n",
       "        vertical-align: top;\n",
       "    }\n",
       "\n",
       "    .dataframe thead th {\n",
       "        text-align: right;\n",
       "    }\n",
       "</style>\n",
       "<table border=\"1\" class=\"dataframe\">\n",
       "  <thead>\n",
       "    <tr style=\"text-align: right;\">\n",
       "      <th></th>\n",
       "      <th>runs</th>\n",
       "      <th>wickets</th>\n",
       "      <th>overs</th>\n",
       "      <th>runs_last_5</th>\n",
       "      <th>wickets_last_5</th>\n",
       "      <th>striker</th>\n",
       "      <th>non-striker</th>\n",
       "      <th>total</th>\n",
       "      <th>Afghanistan</th>\n",
       "      <th>Asia XI</th>\n",
       "      <th>...</th>\n",
       "      <th>Netherlands</th>\n",
       "      <th>New Zealand</th>\n",
       "      <th>Pakistan</th>\n",
       "      <th>Papua New Guinea</th>\n",
       "      <th>Scotland</th>\n",
       "      <th>South Africa</th>\n",
       "      <th>Sri Lanka</th>\n",
       "      <th>United Arab Emirates</th>\n",
       "      <th>West Indies</th>\n",
       "      <th>Zimbabwe</th>\n",
       "    </tr>\n",
       "  </thead>\n",
       "  <tbody>\n",
       "    <tr>\n",
       "      <th>0</th>\n",
       "      <td>0</td>\n",
       "      <td>0</td>\n",
       "      <td>0.1</td>\n",
       "      <td>0</td>\n",
       "      <td>0</td>\n",
       "      <td>0</td>\n",
       "      <td>0</td>\n",
       "      <td>301</td>\n",
       "      <td>0</td>\n",
       "      <td>0</td>\n",
       "      <td>...</td>\n",
       "      <td>0</td>\n",
       "      <td>0</td>\n",
       "      <td>0</td>\n",
       "      <td>0</td>\n",
       "      <td>0</td>\n",
       "      <td>0</td>\n",
       "      <td>0</td>\n",
       "      <td>0</td>\n",
       "      <td>0</td>\n",
       "      <td>0</td>\n",
       "    </tr>\n",
       "    <tr>\n",
       "      <th>1</th>\n",
       "      <td>0</td>\n",
       "      <td>0</td>\n",
       "      <td>0.2</td>\n",
       "      <td>0</td>\n",
       "      <td>0</td>\n",
       "      <td>0</td>\n",
       "      <td>0</td>\n",
       "      <td>301</td>\n",
       "      <td>0</td>\n",
       "      <td>0</td>\n",
       "      <td>...</td>\n",
       "      <td>0</td>\n",
       "      <td>0</td>\n",
       "      <td>0</td>\n",
       "      <td>0</td>\n",
       "      <td>0</td>\n",
       "      <td>0</td>\n",
       "      <td>0</td>\n",
       "      <td>0</td>\n",
       "      <td>0</td>\n",
       "      <td>0</td>\n",
       "    </tr>\n",
       "    <tr>\n",
       "      <th>2</th>\n",
       "      <td>4</td>\n",
       "      <td>0</td>\n",
       "      <td>0.3</td>\n",
       "      <td>4</td>\n",
       "      <td>0</td>\n",
       "      <td>0</td>\n",
       "      <td>0</td>\n",
       "      <td>301</td>\n",
       "      <td>0</td>\n",
       "      <td>0</td>\n",
       "      <td>...</td>\n",
       "      <td>0</td>\n",
       "      <td>0</td>\n",
       "      <td>0</td>\n",
       "      <td>0</td>\n",
       "      <td>0</td>\n",
       "      <td>0</td>\n",
       "      <td>0</td>\n",
       "      <td>0</td>\n",
       "      <td>0</td>\n",
       "      <td>0</td>\n",
       "    </tr>\n",
       "    <tr>\n",
       "      <th>3</th>\n",
       "      <td>6</td>\n",
       "      <td>0</td>\n",
       "      <td>0.4</td>\n",
       "      <td>6</td>\n",
       "      <td>0</td>\n",
       "      <td>0</td>\n",
       "      <td>0</td>\n",
       "      <td>301</td>\n",
       "      <td>0</td>\n",
       "      <td>0</td>\n",
       "      <td>...</td>\n",
       "      <td>0</td>\n",
       "      <td>0</td>\n",
       "      <td>0</td>\n",
       "      <td>0</td>\n",
       "      <td>0</td>\n",
       "      <td>0</td>\n",
       "      <td>0</td>\n",
       "      <td>0</td>\n",
       "      <td>0</td>\n",
       "      <td>0</td>\n",
       "    </tr>\n",
       "    <tr>\n",
       "      <th>4</th>\n",
       "      <td>6</td>\n",
       "      <td>0</td>\n",
       "      <td>0.5</td>\n",
       "      <td>6</td>\n",
       "      <td>0</td>\n",
       "      <td>0</td>\n",
       "      <td>0</td>\n",
       "      <td>301</td>\n",
       "      <td>0</td>\n",
       "      <td>0</td>\n",
       "      <td>...</td>\n",
       "      <td>0</td>\n",
       "      <td>0</td>\n",
       "      <td>0</td>\n",
       "      <td>0</td>\n",
       "      <td>0</td>\n",
       "      <td>0</td>\n",
       "      <td>0</td>\n",
       "      <td>0</td>\n",
       "      <td>0</td>\n",
       "      <td>0</td>\n",
       "    </tr>\n",
       "  </tbody>\n",
       "</table>\n",
       "<p>5 rows × 29 columns</p>\n",
       "</div>"
      ],
      "text/plain": [
       "   runs  wickets  overs  runs_last_5  wickets_last_5  striker  non-striker  \\\n",
       "0     0        0    0.1            0               0        0            0   \n",
       "1     0        0    0.2            0               0        0            0   \n",
       "2     4        0    0.3            4               0        0            0   \n",
       "3     6        0    0.4            6               0        0            0   \n",
       "4     6        0    0.5            6               0        0            0   \n",
       "\n",
       "   total  Afghanistan  Asia XI  ...  Netherlands  New Zealand  Pakistan  \\\n",
       "0    301            0        0  ...            0            0         0   \n",
       "1    301            0        0  ...            0            0         0   \n",
       "2    301            0        0  ...            0            0         0   \n",
       "3    301            0        0  ...            0            0         0   \n",
       "4    301            0        0  ...            0            0         0   \n",
       "\n",
       "   Papua New Guinea  Scotland  South Africa  Sri Lanka  United Arab Emirates  \\\n",
       "0                 0         0             0          0                     0   \n",
       "1                 0         0             0          0                     0   \n",
       "2                 0         0             0          0                     0   \n",
       "3                 0         0             0          0                     0   \n",
       "4                 0         0             0          0                     0   \n",
       "\n",
       "   West Indies  Zimbabwe  \n",
       "0            0         0  \n",
       "1            0         0  \n",
       "2            0         0  \n",
       "3            0         0  \n",
       "4            0         0  \n",
       "\n",
       "[5 rows x 29 columns]"
      ]
     },
     "execution_count": 64,
     "metadata": {},
     "output_type": "execute_result"
    }
   ],
   "source": [
    "data.head()"
   ]
  },
  {
   "cell_type": "code",
   "execution_count": 65,
   "metadata": {},
   "outputs": [],
   "source": [
    "y=data['total']"
   ]
  },
  {
   "cell_type": "markdown",
   "metadata": {},
   "source": [
    "## 7) Selecting the relevant features."
   ]
  },
  {
   "cell_type": "code",
   "execution_count": 66,
   "metadata": {},
   "outputs": [],
   "source": [
    "x=data.drop(['total'],axis=1)"
   ]
  },
  {
   "cell_type": "code",
   "execution_count": 67,
   "metadata": {},
   "outputs": [
    {
     "data": {
      "text/plain": [
       "Index(['runs', 'wickets', 'overs', 'runs_last_5', 'wickets_last_5', 'striker',\n",
       "       'non-striker', 'Afghanistan', 'Asia XI', 'Australia', 'Bangladesh',\n",
       "       'Bermuda', 'Canada', 'England', 'Hong Kong', 'India', 'Ireland',\n",
       "       'Kenya', 'Netherlands', 'New Zealand', 'Pakistan', 'Papua New Guinea',\n",
       "       'Scotland', 'South Africa', 'Sri Lanka', 'United Arab Emirates',\n",
       "       'West Indies', 'Zimbabwe'],\n",
       "      dtype='object')"
      ]
     },
     "execution_count": 67,
     "metadata": {},
     "output_type": "execute_result"
    }
   ],
   "source": [
    "x.columns"
   ]
  },
  {
   "cell_type": "code",
   "execution_count": 68,
   "metadata": {},
   "outputs": [
    {
     "data": {
      "text/plain": [
       "(350899, 28)"
      ]
     },
     "execution_count": 68,
     "metadata": {},
     "output_type": "execute_result"
    }
   ],
   "source": [
    "x.shape"
   ]
  },
  {
   "cell_type": "markdown",
   "metadata": {},
   "source": [
    "## 8) Performing Feature scaling."
   ]
  },
  {
   "cell_type": "markdown",
   "metadata": {},
   "source": [
    "## 8.a) Standardization:"
   ]
  },
  {
   "cell_type": "code",
   "execution_count": 69,
   "metadata": {},
   "outputs": [],
   "source": [
    "from sklearn import preprocessing"
   ]
  },
  {
   "cell_type": "code",
   "execution_count": 72,
   "metadata": {},
   "outputs": [],
   "source": [
    "Standardisation = preprocessing.StandardScaler()"
   ]
  },
  {
   "cell_type": "code",
   "execution_count": 73,
   "metadata": {},
   "outputs": [],
   "source": [
    "x_standard = Standardisation.fit_transform(x)"
   ]
  },
  {
   "cell_type": "code",
   "execution_count": 74,
   "metadata": {},
   "outputs": [
    {
     "name": "stdout",
     "output_type": "stream",
     "text": [
      "\n",
      "After Standardisation : \n",
      " [[-1.47814854 -1.29405253 -1.68262697 ... -0.07582621 -0.27039209\n",
      "  -0.25344287]\n",
      " [-1.47814854 -1.29405253 -1.67560224 ... -0.07582621 -0.27039209\n",
      "  -0.25344287]\n",
      " [-1.42664585 -1.29405253 -1.66857751 ... -0.07582621 -0.27039209\n",
      "  -0.25344287]\n",
      " ...\n",
      " [ 1.10986155  2.18578767  1.78056593 ... -0.07582621 -0.27039209\n",
      "  -0.25344287]\n",
      " [ 1.12273722  2.18578767  1.78759066 ... -0.07582621 -0.27039209\n",
      "  -0.25344287]\n",
      " [ 1.13561289  2.18578767  1.79461539 ... -0.07582621 -0.27039209\n",
      "  -0.25344287]]\n"
     ]
    }
   ],
   "source": [
    "print (\"\\nAfter Standardisation : \\n\", x_standard)"
   ]
  },
  {
   "cell_type": "markdown",
   "metadata": {},
   "source": [
    "## 8.b) Min-Max Normalization:"
   ]
  },
  {
   "cell_type": "code",
   "execution_count": 75,
   "metadata": {},
   "outputs": [
    {
     "name": "stdout",
     "output_type": "stream",
     "text": [
      "\n",
      "After min max Scaling : \n",
      " [[0.         0.         0.00201613 ... 0.         0.         0.        ]\n",
      " [0.         0.         0.00403226 ... 0.         0.         0.        ]\n",
      " [0.00900901 0.         0.00604839 ... 0.         0.         0.        ]\n",
      " ...\n",
      " [0.4527027  0.8        0.99596774 ... 0.         0.         0.        ]\n",
      " [0.45495495 0.8        0.99798387 ... 0.         0.         0.        ]\n",
      " [0.45720721 0.8        1.         ... 0.         0.         0.        ]]\n"
     ]
    }
   ],
   "source": [
    "from sklearn import preprocessing\n",
    "\"\"\" MIN MAX SCALER \"\"\"\n",
    "min_max_scaler = preprocessing.MinMaxScaler(feature_range =(0, 1))\n",
    "# Scaled feature\n",
    "x_min_max = min_max_scaler.fit_transform(x)\n",
    "print (\"\\nAfter min max Scaling : \\n\", x_min_max)"
   ]
  },
  {
   "cell_type": "markdown",
   "metadata": {},
   "source": [
    "## SPLITTING THE DATA:"
   ]
  },
  {
   "cell_type": "markdown",
   "metadata": {},
   "source": [
    "## 9) Performing Train Test Split on the dataset. 9) Performing Train Test Split on the dataset."
   ]
  },
  {
   "cell_type": "code",
   "execution_count": 76,
   "metadata": {},
   "outputs": [],
   "source": [
    "from sklearn.model_selection import train_test_split"
   ]
  },
  {
   "cell_type": "code",
   "execution_count": 77,
   "metadata": {},
   "outputs": [],
   "source": [
    "x_train,x_test,y_train,y_test=train_test_split(x,y,test_size=0.20,random_state=32)"
   ]
  },
  {
   "cell_type": "markdown",
   "metadata": {},
   "source": [
    "## MODELLING:"
   ]
  },
  {
   "cell_type": "markdown",
   "metadata": {},
   "source": [
    "## 10) Applying Linear Regression, Decision Tree Regression, Random Forest Regression on the train dataset."
   ]
  },
  {
   "cell_type": "markdown",
   "metadata": {},
   "source": [
    "## 10.a) LINEAR REGRESSION:"
   ]
  },
  {
   "cell_type": "code",
   "execution_count": 78,
   "metadata": {},
   "outputs": [],
   "source": [
    "from sklearn.linear_model import LinearRegression\n",
    "lreg=LinearRegression()"
   ]
  },
  {
   "cell_type": "code",
   "execution_count": 79,
   "metadata": {},
   "outputs": [
    {
     "data": {
      "text/plain": [
       "LinearRegression(copy_X=True, fit_intercept=True, n_jobs=None, normalize=False)"
      ]
     },
     "execution_count": 79,
     "metadata": {},
     "output_type": "execute_result"
    }
   ],
   "source": [
    "lreg.fit(x_train,y_train)"
   ]
  },
  {
   "cell_type": "code",
   "execution_count": 80,
   "metadata": {},
   "outputs": [],
   "source": [
    "y_lpred=lreg.predict(x_test)"
   ]
  },
  {
   "cell_type": "markdown",
   "metadata": {},
   "source": [
    "## 10.b) DECISION TREE REGRESSION:"
   ]
  },
  {
   "cell_type": "code",
   "execution_count": 82,
   "metadata": {},
   "outputs": [],
   "source": [
    "from sklearn.tree import DecisionTreeRegressor\n",
    "dreg=DecisionTreeRegressor(max_depth=5)"
   ]
  },
  {
   "cell_type": "code",
   "execution_count": 83,
   "metadata": {},
   "outputs": [
    {
     "data": {
      "text/plain": [
       "DecisionTreeRegressor(ccp_alpha=0.0, criterion='mse', max_depth=5,\n",
       "                      max_features=None, max_leaf_nodes=None,\n",
       "                      min_impurity_decrease=0.0, min_impurity_split=None,\n",
       "                      min_samples_leaf=1, min_samples_split=2,\n",
       "                      min_weight_fraction_leaf=0.0, presort='deprecated',\n",
       "                      random_state=None, splitter='best')"
      ]
     },
     "execution_count": 83,
     "metadata": {},
     "output_type": "execute_result"
    }
   ],
   "source": [
    "dreg.fit(x_train,y_train)"
   ]
  },
  {
   "cell_type": "code",
   "execution_count": 84,
   "metadata": {},
   "outputs": [],
   "source": [
    "y_dpred=dreg.predict(x_test)"
   ]
  },
  {
   "cell_type": "markdown",
   "metadata": {},
   "source": [
    "## 10.c) RANDOM FOREST REGRESSION:"
   ]
  },
  {
   "cell_type": "code",
   "execution_count": 85,
   "metadata": {},
   "outputs": [],
   "source": [
    "from sklearn.preprocessing import StandardScaler\n",
    "sc=StandardScaler()\n",
    "x_train=sc.fit_transform(x_train)\n",
    "x_test=sc.transform(x_test)"
   ]
  },
  {
   "cell_type": "code",
   "execution_count": 86,
   "metadata": {},
   "outputs": [],
   "source": [
    "from sklearn.ensemble import RandomForestRegressor\n",
    "regr = RandomForestRegressor(n_estimators=20, random_state=0)"
   ]
  },
  {
   "cell_type": "code",
   "execution_count": 87,
   "metadata": {},
   "outputs": [
    {
     "data": {
      "text/plain": [
       "RandomForestRegressor(bootstrap=True, ccp_alpha=0.0, criterion='mse',\n",
       "                      max_depth=None, max_features='auto', max_leaf_nodes=None,\n",
       "                      max_samples=None, min_impurity_decrease=0.0,\n",
       "                      min_impurity_split=None, min_samples_leaf=1,\n",
       "                      min_samples_split=2, min_weight_fraction_leaf=0.0,\n",
       "                      n_estimators=20, n_jobs=None, oob_score=False,\n",
       "                      random_state=0, verbose=0, warm_start=False)"
      ]
     },
     "execution_count": 87,
     "metadata": {},
     "output_type": "execute_result"
    }
   ],
   "source": [
    "regr.fit(x_train,y_train)"
   ]
  },
  {
   "cell_type": "code",
   "execution_count": 88,
   "metadata": {},
   "outputs": [],
   "source": [
    "y_rpred=regr.predict(x_test)"
   ]
  },
  {
   "cell_type": "markdown",
   "metadata": {},
   "source": [
    "## EVALUATION:"
   ]
  },
  {
   "cell_type": "markdown",
   "metadata": {},
   "source": [
    "## 11) Evaluating the models using metrics."
   ]
  },
  {
   "cell_type": "markdown",
   "metadata": {},
   "source": [
    "## 11.a) Linear Regression Model:"
   ]
  },
  {
   "cell_type": "code",
   "execution_count": 89,
   "metadata": {},
   "outputs": [],
   "source": [
    "from sklearn import metrics\n",
    "import numpy as np"
   ]
  },
  {
   "cell_type": "code",
   "execution_count": 90,
   "metadata": {},
   "outputs": [
    {
     "name": "stdout",
     "output_type": "stream",
     "text": [
      "Mean Absolute Error: 31.129976427035626\n",
      "Mean Squared Error: 1719.2409297682075\n",
      "Root Mean Squared Error: 41.46373029248824\n"
     ]
    }
   ],
   "source": [
    "print('Mean Absolute Error:', metrics.mean_absolute_error(y_test, y_lpred))\n",
    "print('Mean Squared Error:', metrics.mean_squared_error(y_test, y_lpred))\n",
    "print('Root Mean Squared Error:', np.sqrt(metrics.mean_squared_error(y_test, y_lpred)))"
   ]
  },
  {
   "cell_type": "markdown",
   "metadata": {},
   "source": [
    "## 11.b) Decision Tree Regression Model:"
   ]
  },
  {
   "cell_type": "code",
   "execution_count": 91,
   "metadata": {},
   "outputs": [
    {
     "name": "stdout",
     "output_type": "stream",
     "text": [
      "Mean Absolute Error: 35.33619993192601\n",
      "Mean Squared Error: 2173.537082721045\n",
      "Root Mean Squared Error: 46.62120850772795\n"
     ]
    }
   ],
   "source": [
    "print('Mean Absolute Error:', metrics.mean_absolute_error(y_test, y_dpred))\n",
    "print('Mean Squared Error:', metrics.mean_squared_error(y_test, y_dpred))\n",
    "print('Root Mean Squared Error:', np.sqrt(metrics.mean_squared_error(y_test, y_dpred)))"
   ]
  },
  {
   "cell_type": "markdown",
   "metadata": {},
   "source": [
    "## 11.c) Random Forest Regression Model:"
   ]
  },
  {
   "cell_type": "code",
   "execution_count": 92,
   "metadata": {},
   "outputs": [
    {
     "name": "stdout",
     "output_type": "stream",
     "text": [
      "Mean Absolute Error: 9.805972842033968\n",
      "Mean Squared Error: 399.82351537910523\n",
      "Root Mean Squared Error: 19.995587397701154\n"
     ]
    }
   ],
   "source": [
    "print('Mean Absolute Error:', metrics.mean_absolute_error(y_test, y_rpred))\n",
    "print('Mean Squared Error:', metrics.mean_squared_error(y_test, y_rpred))\n",
    "print('Root Mean Squared Error:', np.sqrt(metrics.mean_squared_error(y_test, y_rpred)))"
   ]
  },
  {
   "cell_type": "markdown",
   "metadata": {},
   "source": [
    "## PREDICTION:"
   ]
  },
  {
   "cell_type": "markdown",
   "metadata": {},
   "source": [
    "## 12) Predicting the Total column using the developed models."
   ]
  },
  {
   "cell_type": "code",
   "execution_count": 93,
   "metadata": {},
   "outputs": [
    {
     "data": {
      "text/plain": [
       "array([224.37782629, 297.3078683 , 270.22922999, ..., 291.50298536,\n",
       "       260.39126745, 249.34224184])"
      ]
     },
     "execution_count": 93,
     "metadata": {},
     "output_type": "execute_result"
    }
   ],
   "source": [
    "lreg.predict(x_test)"
   ]
  },
  {
   "cell_type": "code",
   "execution_count": 94,
   "metadata": {},
   "outputs": [
    {
     "data": {
      "text/plain": [
       "array([251.9827724, 251.9827724, 251.9827724, ..., 251.9827724,\n",
       "       251.9827724, 251.9827724])"
      ]
     },
     "execution_count": 94,
     "metadata": {},
     "output_type": "execute_result"
    }
   ],
   "source": [
    "dreg.predict(x_test)"
   ]
  },
  {
   "cell_type": "code",
   "execution_count": 95,
   "metadata": {},
   "outputs": [
    {
     "data": {
      "text/plain": [
       "array([178.  , 292.35, 219.  , ..., 317.6 , 243.85, 257.05])"
      ]
     },
     "execution_count": 95,
     "metadata": {},
     "output_type": "execute_result"
    }
   ],
   "source": [
    "regr.predict(x_test)"
   ]
  },
  {
   "cell_type": "code",
   "execution_count": null,
   "metadata": {},
   "outputs": [],
   "source": []
  }
 ],
 "metadata": {
  "kernelspec": {
   "display_name": "Python 3",
   "language": "python",
   "name": "python3"
  },
  "language_info": {
   "codemirror_mode": {
    "name": "ipython",
    "version": 3
   },
   "file_extension": ".py",
   "mimetype": "text/x-python",
   "name": "python",
   "nbconvert_exporter": "python",
   "pygments_lexer": "ipython3",
   "version": "3.7.6"
  }
 },
 "nbformat": 4,
 "nbformat_minor": 4
}
